{
  "nbformat": 4,
  "nbformat_minor": 0,
  "metadata": {
    "colab": {
      "name": "Project Deep Convolutional Neural Network Cifar10.ipynb",
      "version": "0.3.2",
      "views": {},
      "default_view": {},
      "provenance": [
        {
          "file_id": "1UmwtJubwW8k2VUGgvRsoXJuMZC03sfaW",
          "timestamp": 1532981598466
        },
        {
          "file_id": "1J_wBp6WAQxLM5ci8l12KOvRyP-Bdtwwi",
          "timestamp": 1528316358653
        },
        {
          "file_id": "1oO_hKupW-BocG5mRHrfuwCBpcRH0nUYQ",
          "timestamp": 1528296784150
        }
      ],
      "collapsed_sections": []
    },
    "kernelspec": {
      "name": "python3",
      "display_name": "Python 3"
    },
    "accelerator": "GPU"
  },
  "cells": [
    {
      "metadata": {
        "id": "R3oeCYdWEqFx",
        "colab_type": "code",
        "colab": {
          "autoexec": {
            "startup": false,
            "wait_interval": 0
          },
          "base_uri": "https://localhost:8080/",
          "height": 277
        },
        "outputId": "473998c5-822c-48d5-cd92-7aa41754df40",
        "executionInfo": {
          "status": "ok",
          "timestamp": 1533237588715,
          "user_tz": 240,
          "elapsed": 1453,
          "user": {
            "displayName": "Sebastian Norena",
            "photoUrl": "https://lh3.googleusercontent.com/a/default-user=s128",
            "userId": "104810452571155680318"
          }
        }
      },
      "cell_type": "code",
      "source": [
        "# Import important libraries and methods\n",
        "import matplotlib.pyplot as plt\n",
        "import numpy as np\n",
        "import keras\n",
        "from keras.datasets import cifar10\n",
        "from keras.models import Sequential\n",
        "from keras.layers import Dense, Dropout, Flatten, Activation\n",
        "from keras.layers.convolutional import Conv2D, MaxPooling2D\n",
        "from keras.layers.convolutional import Conv3D, MaxPooling3D\n",
        "import pandas as pd\n",
        "from keras import backend as K\n",
        "\n",
        "if K.backend()=='tensorflow':\n",
        "    K.set_image_dim_ordering(\"th\")\n",
        "\n",
        "# input image dimensions\n",
        "img_rows, img_cols = 32, 32   \n",
        "\n",
        "# the data, shuffled and split between train and test sets\n",
        "(x_train, y_train), (x_test, y_test) = cifar10.load_data() \n",
        "\n",
        "# Important Hyperparameters\n",
        "batch_size = 32 \n",
        "num_classes = 2\n",
        "epochs = 100\n",
        "\n",
        "# Plot sample image from each cifar10 class.\n",
        "class_names = ['airplane','automobile','bird','cat','deer','dog','frog','horse','shop','truck']\n",
        "fig = plt.figure(figsize=(8,3))\n",
        "for i in range(10):\n",
        "    ax = fig.add_subplot(2, 5, 1 + i, xticks=[], yticks=[])\n",
        "    idx = np.where(y_train[:]==i)[0]\n",
        "    features_idx = x_train[idx,::]\n",
        "    img_num = np.random.randint(features_idx.shape[0])\n",
        "    im = np.transpose(features_idx[img_num,::],(1,2,0))\n",
        "    ax.set_title(class_names[i])\n",
        "    plt.imshow(im)\n",
        "plt.show()\n",
        "\n",
        "# Only look at cats [=3] and dogs [=5]\n",
        "train_picks = np.ravel(np.logical_or(y_train==3,y_train==5))  \n",
        "test_picks = np.ravel(np.logical_or(y_test==3,y_test==5))     \n",
        "\n",
        "y_train = np.array(y_train[train_picks]==5,dtype=int)\n",
        "y_test = np.array(y_test[test_picks]==5,dtype=int)\n",
        "\n",
        "x_train = x_train[train_picks]\n",
        "x_test = x_test[test_picks]\n",
        "\n",
        "# check for image_data format and format image shape accordingly\n",
        "if K.image_data_format() == 'channels_first':\n",
        "    x_train = x_train.reshape(x_train.shape[0], 3, img_rows, img_cols)\n",
        "    x_test = x_test.reshape(x_test.shape[0], 3, img_rows, img_cols)\n",
        "    input_shape = (3, img_rows, img_cols)\n",
        "else:\n",
        "    x_train = x_train.reshape(x_train.shape[0], img_rows, img_cols, 3)\n",
        "    x_test = x_test.reshape(x_test.shape[0], img_rows, img_cols, 3)\n",
        "    input_shape = (img_rows, img_cols, 3)\n",
        "\n",
        "# Normalize pixel values between 0 and 1\n",
        "x_train = x_train.astype('float32')\n",
        "x_test = x_test.astype('float32')\n",
        "x_train /= 255\n",
        "x_test /= 255\n",
        "\n",
        "# Convert class vectors to binary class matrices\n",
        "y_train = keras.utils.to_categorical(np.ravel(y_train), num_classes)\n",
        "y_test = keras.utils.to_categorical(np.ravel(y_test), num_classes)\n",
        "\n",
        "# Check train and test lengths\n",
        "print('y_train length:', len(y_train))\n",
        "print('x_train length:', len(x_train))\n",
        "print('y_test length:', len(y_test))\n",
        "print('x_test length:', len(x_test))"
      ],
      "execution_count": 8,
      "outputs": [
        {
          "output_type": "display_data",
          "data": {
            "image/png": "[encoded data removed]",
            "text/plain": [
              "<matplotlib.figure.Figure at 0x7f1fa788d550>"
            ]
          },
          "metadata": {
            "tags": []
          }
        },
        {
          "output_type": "stream",
          "text": [
            "y_train length: 10000\n",
            "x_train length: 10000\n",
            "y_test length: 2000\n",
            "x_test length: 2000\n"
          ],
          "name": "stdout"
        }
      ]
    },
    {
      "metadata": {
        "id": "84--UWHEEEAj",
        "colab_type": "text"
      },
      "cell_type": "markdown",
      "source": [
        "# Model #2\n",
        "\n",
        "Lets add an additional set of convolutional->activation->pooling to this model:\n",
        "\n",
        "*   Conv2D - kernel_size = (3,3)\n",
        "*   Relu Activation\n",
        "*   Conv2D - kernel_size = (3,3)\n",
        "*   Relu Activation\n",
        "*   Max Pooling - pool_size = (2,2)\n",
        "*   Dropout - use .25 for all layers but the final layer\n",
        "---\n",
        "*   Conv2D - kernel_size = (3,3)\n",
        "*   Relu Activation\n",
        "*   Conv2D - kernel_size = (3,3)\n",
        "*   Relu Activation\n",
        "*   Max Pooling - pool_size = (2,2)\n",
        "*   Dropout - use .25 for all layers but the final layer\n",
        "---\n",
        "*   Flatten\n",
        "*   Fully-Connected (Dense)\n",
        "*   Dropout - use .5 this time \n",
        "*   Fully-Connected (Dense layer where # neurons = # final classes/labels)\n",
        "\n",
        "Again, compile the model using categorical_crossentropy as your loss metric and use the Adam optimizer, and accuracy as your overall scoring metric. "
      ]
    },
    {
      "metadata": {
        "id": "7M0OS00TID1X",
        "colab_type": "code",
        "colab": {
          "autoexec": {
            "startup": false,
            "wait_interval": 0
          }
        }
      },
      "cell_type": "code",
      "source": [
        "model2 = Sequential()\n",
        "model2.add(Conv2D(4, kernel_size=(3, 3), activation='relu', input_shape=input_shape)) \n",
        "model2.add(Conv2D(8, (3, 3), activation='relu'))\n",
        "model2.add(MaxPooling2D(pool_size=(2, 2)))\n",
        "model2.add(Dropout(0.25))\n",
        "#--------------------------\n",
        "model2.add(Conv2D(4, kernel_size=(3, 3), activation='relu', input_shape=input_shape)) \n",
        "model2.add(Conv2D(8, (3, 3), activation='relu'))\n",
        "model2.add(MaxPooling2D(pool_size=(2, 2)))\n",
        "model2.add(Dropout(0.25))\n",
        "#--------------------------\n",
        "model2.add(Flatten())\n",
        "model2.add(Dense(16, activation='relu'))\n",
        "model2.add(Dropout(0.5))\n",
        "model2.add(Dense(2, activation='softmax'))\n",
        "\n",
        "model2.compile(loss=keras.losses.categorical_crossentropy, optimizer=keras.optimizers.Adam(), metrics=['accuracy'])\n"
      ],
      "execution_count": 0,
      "outputs": []
    },
    {
      "metadata": {
        "id": "8UudWBooFZ5n",
        "colab_type": "text"
      },
      "cell_type": "markdown",
      "source": [
        "## Fit your model\n",
        "\n",
        "Fit your model and save it to a new variable so that we can access the .history value to make a plot of our training and validation accuracies by epoch."
      ]
    },
    {
      "metadata": {
        "id": "UGFKYu3mI-aa",
        "colab_type": "code",
        "colab": {
          "autoexec": {
            "startup": false,
            "wait_interval": 0
          },
          "base_uri": "https://localhost:8080/",
          "height": 3454
        },
        "outputId": "ccea13c3-f595-4772-993f-e3217abd9036",
        "executionInfo": {
          "status": "ok",
          "timestamp": 1533238140030,
          "user_tz": 240,
          "elapsed": 507673,
          "user": {
            "displayName": "Sebastian Norena",
            "photoUrl": "https://lh3.googleusercontent.com/a/default-user=s128",
            "userId": "104810452571155680318"
          }
        }
      },
      "cell_type": "code",
      "source": [
        "fitted_model_2 = model2.fit(x_train, y_train, batch_size=batch_size, epochs=epochs, validation_data=(x_test, y_test), shuffle=True)"
      ],
      "execution_count": 10,
      "outputs": [
        {
          "output_type": "stream",
          "text": [
            "Train on 10000 samples, validate on 2000 samples\n",
            "Epoch 1/100\n",
            "10000/10000 [==============================] - 7s 719us/step - loss: 0.6937 - acc: 0.5027 - val_loss: 0.6915 - val_acc: 0.5815\n",
            "Epoch 2/100\n",
            "10000/10000 [==============================] - 6s 647us/step - loss: 0.6879 - acc: 0.5363 - val_loss: 0.6745 - val_acc: 0.6015\n",
            "Epoch 3/100\n",
            "10000/10000 [==============================] - 6s 644us/step - loss: 0.6662 - acc: 0.6037 - val_loss: 0.6466 - val_acc: 0.6240\n",
            "Epoch 4/100\n",
            " 1984/10000 [====>.........................] - ETA: 4s - loss: 0.6525 - acc: 0.6210"
          ],
          "name": "stdout"
        },
        {
          "output_type": "stream",
          "text": [
            "10000/10000 [==============================] - 5s 548us/step - loss: 0.6476 - acc: 0.6269 - val_loss: 0.6247 - val_acc: 0.6685\n",
            "Epoch 5/100\n",
            "10000/10000 [==============================] - 5s 530us/step - loss: 0.6335 - acc: 0.6449 - val_loss: 0.6251 - val_acc: 0.6460\n",
            "Epoch 6/100\n",
            "10000/10000 [==============================] - 6s 555us/step - loss: 0.6312 - acc: 0.6454 - val_loss: 0.6065 - val_acc: 0.6810\n",
            "Epoch 7/100\n",
            " 9344/10000 [===========================>..] - ETA: 0s - loss: 0.6205 - acc: 0.6568"
          ],
          "name": "stdout"
        },
        {
          "output_type": "stream",
          "text": [
            "10000/10000 [==============================] - 5s 518us/step - loss: 0.6197 - acc: 0.6586 - val_loss: 0.5963 - val_acc: 0.6850\n",
            "Epoch 8/100\n",
            "10000/10000 [==============================] - 5s 503us/step - loss: 0.6209 - acc: 0.6596 - val_loss: 0.5843 - val_acc: 0.6935\n",
            "Epoch 9/100\n",
            "10000/10000 [==============================] - 5s 494us/step - loss: 0.6115 - acc: 0.6626 - val_loss: 0.5770 - val_acc: 0.7040\n",
            "Epoch 10/100\n",
            "10000/10000 [==============================] - 5s 508us/step - loss: 0.6085 - acc: 0.6682 - val_loss: 0.5748 - val_acc: 0.7050\n",
            "Epoch 11/100\n",
            " 1408/10000 [===>..........................] - ETA: 4s - loss: 0.6057 - acc: 0.6832"
          ],
          "name": "stdout"
        },
        {
          "output_type": "stream",
          "text": [
            "10000/10000 [==============================] - 5s 492us/step - loss: 0.6044 - acc: 0.6762 - val_loss: 0.5678 - val_acc: 0.7080\n",
            "Epoch 12/100\n",
            "10000/10000 [==============================] - 5s 505us/step - loss: 0.5958 - acc: 0.6829 - val_loss: 0.5619 - val_acc: 0.7100\n",
            "Epoch 13/100\n",
            "10000/10000 [==============================] - 5s 490us/step - loss: 0.5919 - acc: 0.6803 - val_loss: 0.5708 - val_acc: 0.6990\n",
            "Epoch 14/100\n",
            "10000/10000 [==============================] - 5s 503us/step - loss: 0.5864 - acc: 0.6929 - val_loss: 0.5484 - val_acc: 0.7185\n",
            "Epoch 15/100\n",
            "  256/10000 [..............................] - ETA: 4s - loss: 0.5315 - acc: 0.7422"
          ],
          "name": "stdout"
        },
        {
          "output_type": "stream",
          "text": [
            "10000/10000 [==============================] - 5s 469us/step - loss: 0.5842 - acc: 0.6935 - val_loss: 0.5724 - val_acc: 0.6995\n",
            "Epoch 16/100\n",
            "10000/10000 [==============================] - 5s 515us/step - loss: 0.5783 - acc: 0.7041 - val_loss: 0.5445 - val_acc: 0.7245\n",
            "Epoch 17/100\n",
            "10000/10000 [==============================] - 5s 520us/step - loss: 0.5765 - acc: 0.7048 - val_loss: 0.5942 - val_acc: 0.6815\n",
            "Epoch 18/100\n",
            "10000/10000 [==============================] - 5s 460us/step - loss: 0.5693 - acc: 0.7049 - val_loss: 0.5455 - val_acc: 0.7245\n",
            "Epoch 19/100\n",
            "  288/10000 [..............................] - ETA: 4s - loss: 0.6152 - acc: 0.6701"
          ],
          "name": "stdout"
        },
        {
          "output_type": "stream",
          "text": [
            "10000/10000 [==============================] - 5s 485us/step - loss: 0.5717 - acc: 0.7093 - val_loss: 0.5212 - val_acc: 0.7425\n",
            "Epoch 20/100\n",
            "10000/10000 [==============================] - 5s 479us/step - loss: 0.5595 - acc: 0.7163 - val_loss: 0.5857 - val_acc: 0.6970\n",
            "Epoch 21/100\n",
            "10000/10000 [==============================] - 5s 454us/step - loss: 0.5650 - acc: 0.7111 - val_loss: 0.5463 - val_acc: 0.7185\n",
            "Epoch 22/100\n",
            "10000/10000 [==============================] - 4s 434us/step - loss: 0.5608 - acc: 0.7166 - val_loss: 0.5684 - val_acc: 0.6980\n",
            "Epoch 23/100\n",
            " 1568/10000 [===>..........................] - ETA: 3s - loss: 0.5472 - acc: 0.7232"
          ],
          "name": "stdout"
        },
        {
          "output_type": "stream",
          "text": [
            "10000/10000 [==============================] - 5s 457us/step - loss: 0.5607 - acc: 0.7198 - val_loss: 0.5296 - val_acc: 0.7455\n",
            "Epoch 24/100\n",
            "10000/10000 [==============================] - 4s 419us/step - loss: 0.5573 - acc: 0.7210 - val_loss: 0.5269 - val_acc: 0.7415\n",
            "Epoch 25/100\n",
            "10000/10000 [==============================] - 5s 465us/step - loss: 0.5489 - acc: 0.7294 - val_loss: 0.5194 - val_acc: 0.7425\n",
            "Epoch 26/100\n",
            "10000/10000 [==============================] - 4s 424us/step - loss: 0.5513 - acc: 0.7254 - val_loss: 0.5229 - val_acc: 0.7375\n",
            "Epoch 27/100\n",
            " 1888/10000 [====>.........................] - ETA: 4s - loss: 0.5372 - acc: 0.7214"
          ],
          "name": "stdout"
        },
        {
          "output_type": "stream",
          "text": [
            "10000/10000 [==============================] - 5s 509us/step - loss: 0.5471 - acc: 0.7290 - val_loss: 0.5148 - val_acc: 0.7525\n",
            "Epoch 28/100\n",
            "10000/10000 [==============================] - 5s 488us/step - loss: 0.5521 - acc: 0.7231 - val_loss: 0.5165 - val_acc: 0.7465\n",
            "Epoch 29/100\n",
            "10000/10000 [==============================] - 5s 473us/step - loss: 0.5400 - acc: 0.7281 - val_loss: 0.5172 - val_acc: 0.7455\n",
            "Epoch 30/100\n",
            "10000/10000 [==============================] - 5s 497us/step - loss: 0.5372 - acc: 0.7343 - val_loss: 0.5610 - val_acc: 0.7060\n",
            "Epoch 31/100\n",
            "  704/10000 [=>............................] - ETA: 4s - loss: 0.5577 - acc: 0.7386"
          ],
          "name": "stdout"
        },
        {
          "output_type": "stream",
          "text": [
            "10000/10000 [==============================] - 5s 468us/step - loss: 0.5455 - acc: 0.7286 - val_loss: 0.5077 - val_acc: 0.7525\n",
            "Epoch 32/100\n",
            "10000/10000 [==============================] - 5s 535us/step - loss: 0.5367 - acc: 0.7330 - val_loss: 0.5188 - val_acc: 0.7470\n",
            "Epoch 33/100\n",
            "10000/10000 [==============================] - 6s 551us/step - loss: 0.5416 - acc: 0.7302 - val_loss: 0.5289 - val_acc: 0.7385\n",
            "Epoch 34/100\n",
            " 9920/10000 [============================>.] - ETA: 0s - loss: 0.5357 - acc: 0.7371"
          ],
          "name": "stdout"
        },
        {
          "output_type": "stream",
          "text": [
            "10000/10000 [==============================] - 5s 461us/step - loss: 0.5358 - acc: 0.7369 - val_loss: 0.5352 - val_acc: 0.7325\n",
            "Epoch 35/100\n",
            "10000/10000 [==============================] - 5s 471us/step - loss: 0.5387 - acc: 0.7310 - val_loss: 0.5606 - val_acc: 0.7050\n",
            "Epoch 36/100\n",
            "10000/10000 [==============================] - 5s 482us/step - loss: 0.5364 - acc: 0.7402 - val_loss: 0.5166 - val_acc: 0.7500\n",
            "Epoch 37/100\n",
            "10000/10000 [==============================] - 4s 431us/step - loss: 0.5378 - acc: 0.7369 - val_loss: 0.4994 - val_acc: 0.7595\n",
            "Epoch 38/100\n",
            " 2432/10000 [======>.......................] - ETA: 3s - loss: 0.5282 - acc: 0.7504"
          ],
          "name": "stdout"
        },
        {
          "output_type": "stream",
          "text": [
            "10000/10000 [==============================] - 5s 474us/step - loss: 0.5342 - acc: 0.7399 - val_loss: 0.5026 - val_acc: 0.7575\n",
            "Epoch 39/100\n",
            "10000/10000 [==============================] - 4s 436us/step - loss: 0.5309 - acc: 0.7385 - val_loss: 0.5065 - val_acc: 0.7535\n",
            "Epoch 40/100\n",
            "10000/10000 [==============================] - 4s 441us/step - loss: 0.5307 - acc: 0.7394 - val_loss: 0.5121 - val_acc: 0.7375\n",
            "Epoch 41/100\n",
            "10000/10000 [==============================] - 5s 481us/step - loss: 0.5268 - acc: 0.7431 - val_loss: 0.5281 - val_acc: 0.7370\n",
            "Epoch 42/100\n",
            " 2080/10000 [=====>........................] - ETA: 3s - loss: 0.5228 - acc: 0.7428"
          ],
          "name": "stdout"
        },
        {
          "output_type": "stream",
          "text": [
            "10000/10000 [==============================] - 4s 416us/step - loss: 0.5223 - acc: 0.7439 - val_loss: 0.5254 - val_acc: 0.7370\n",
            "Epoch 43/100\n",
            "10000/10000 [==============================] - 5s 462us/step - loss: 0.5301 - acc: 0.7426 - val_loss: 0.4972 - val_acc: 0.7615\n",
            "Epoch 44/100\n",
            "10000/10000 [==============================] - 4s 434us/step - loss: 0.5270 - acc: 0.7432 - val_loss: 0.5029 - val_acc: 0.7530\n",
            "Epoch 45/100\n",
            "10000/10000 [==============================] - 4s 437us/step - loss: 0.5200 - acc: 0.7386 - val_loss: 0.5134 - val_acc: 0.7550\n",
            "Epoch 46/100\n",
            " 2560/10000 [======>.......................] - ETA: 2s - loss: 0.5228 - acc: 0.7449"
          ],
          "name": "stdout"
        },
        {
          "output_type": "stream",
          "text": [
            "10000/10000 [==============================] - 5s 450us/step - loss: 0.5222 - acc: 0.7420 - val_loss: 0.5223 - val_acc: 0.7365\n",
            "Epoch 47/100\n",
            "10000/10000 [==============================] - 4s 421us/step - loss: 0.5174 - acc: 0.7454 - val_loss: 0.4912 - val_acc: 0.7670\n",
            "Epoch 48/100\n",
            "10000/10000 [==============================] - 4s 432us/step - loss: 0.5251 - acc: 0.7434 - val_loss: 0.5377 - val_acc: 0.7310\n",
            "Epoch 49/100\n",
            "10000/10000 [==============================] - 4s 441us/step - loss: 0.5175 - acc: 0.7460 - val_loss: 0.5322 - val_acc: 0.7310\n",
            "Epoch 50/100\n",
            " 2016/10000 [=====>........................] - ETA: 4s - loss: 0.5111 - acc: 0.7555"
          ],
          "name": "stdout"
        },
        {
          "output_type": "stream",
          "text": [
            "10000/10000 [==============================] - 5s 477us/step - loss: 0.5187 - acc: 0.7457 - val_loss: 0.5067 - val_acc: 0.7495\n",
            "Epoch 51/100\n",
            "10000/10000 [==============================] - 5s 478us/step - loss: 0.5162 - acc: 0.7505 - val_loss: 0.4845 - val_acc: 0.7715\n",
            "Epoch 52/100\n",
            "10000/10000 [==============================] - 4s 444us/step - loss: 0.5183 - acc: 0.7455 - val_loss: 0.5118 - val_acc: 0.7475\n",
            "Epoch 53/100\n",
            "10000/10000 [==============================] - 4s 418us/step - loss: 0.5232 - acc: 0.7481 - val_loss: 0.4870 - val_acc: 0.7675\n",
            "Epoch 54/100\n",
            " 2432/10000 [======>.......................] - ETA: 2s - loss: 0.5205 - acc: 0.7479"
          ],
          "name": "stdout"
        },
        {
          "output_type": "stream",
          "text": [
            "10000/10000 [==============================] - 4s 436us/step - loss: 0.5204 - acc: 0.7472 - val_loss: 0.5122 - val_acc: 0.7395\n",
            "Epoch 55/100\n",
            "10000/10000 [==============================] - 5s 532us/step - loss: 0.5144 - acc: 0.7556 - val_loss: 0.4871 - val_acc: 0.7685\n",
            "Epoch 56/100\n",
            "10000/10000 [==============================] - 5s 543us/step - loss: 0.5161 - acc: 0.7492 - val_loss: 0.5530 - val_acc: 0.7220\n",
            "Epoch 57/100\n",
            " 9312/10000 [==========================>...] - ETA: 0s - loss: 0.5153 - acc: 0.7467"
          ],
          "name": "stdout"
        },
        {
          "output_type": "stream",
          "text": [
            "10000/10000 [==============================] - 5s 525us/step - loss: 0.5174 - acc: 0.7451 - val_loss: 0.5131 - val_acc: 0.7435\n",
            "Epoch 58/100\n",
            "10000/10000 [==============================] - 5s 531us/step - loss: 0.5144 - acc: 0.7484 - val_loss: 0.5036 - val_acc: 0.7570\n",
            "Epoch 59/100\n",
            "10000/10000 [==============================] - 5s 515us/step - loss: 0.5214 - acc: 0.7439 - val_loss: 0.5008 - val_acc: 0.7590\n",
            "Epoch 60/100\n",
            "10000/10000 [==============================] - 5s 501us/step - loss: 0.5129 - acc: 0.7483 - val_loss: 0.5012 - val_acc: 0.7595\n",
            "Epoch 61/100\n",
            " 1120/10000 [==>...........................] - ETA: 4s - loss: 0.5027 - acc: 0.7527"
          ],
          "name": "stdout"
        },
        {
          "output_type": "stream",
          "text": [
            "10000/10000 [==============================] - 5s 503us/step - loss: 0.5124 - acc: 0.7539 - val_loss: 0.5961 - val_acc: 0.6905\n",
            "Epoch 62/100\n",
            "10000/10000 [==============================] - 5s 506us/step - loss: 0.5164 - acc: 0.7464 - val_loss: 0.5220 - val_acc: 0.7440\n",
            "Epoch 63/100\n",
            "10000/10000 [==============================] - 5s 524us/step - loss: 0.5138 - acc: 0.7503 - val_loss: 0.4862 - val_acc: 0.7670\n",
            "Epoch 64/100\n",
            "10000/10000 [==============================] - 5s 510us/step - loss: 0.5115 - acc: 0.7531 - val_loss: 0.4921 - val_acc: 0.7730\n",
            "Epoch 65/100\n",
            "   32/10000 [..............................] - ETA: 5s - loss: 0.5872 - acc: 0.6875"
          ],
          "name": "stdout"
        },
        {
          "output_type": "stream",
          "text": [
            "10000/10000 [==============================] - 5s 527us/step - loss: 0.5168 - acc: 0.7508 - val_loss: 0.4860 - val_acc: 0.7715\n",
            "Epoch 66/100\n",
            "10000/10000 [==============================] - 6s 583us/step - loss: 0.5075 - acc: 0.7552 - val_loss: 0.4891 - val_acc: 0.7665\n",
            "Epoch 67/100\n",
            "10000/10000 [==============================] - 6s 595us/step - loss: 0.5106 - acc: 0.7526 - val_loss: 0.4779 - val_acc: 0.7685\n",
            "Epoch 68/100\n",
            " 7648/10000 [=====================>........] - ETA: 1s - loss: 0.5162 - acc: 0.7483"
          ],
          "name": "stdout"
        },
        {
          "output_type": "stream",
          "text": [
            "10000/10000 [==============================] - 6s 577us/step - loss: 0.5138 - acc: 0.7492 - val_loss: 0.5238 - val_acc: 0.7360\n",
            "Epoch 69/100\n",
            "10000/10000 [==============================] - 6s 594us/step - loss: 0.5110 - acc: 0.7564 - val_loss: 0.5200 - val_acc: 0.7465\n",
            "Epoch 70/100\n",
            "10000/10000 [==============================] - 6s 598us/step - loss: 0.5051 - acc: 0.7498 - val_loss: 0.5109 - val_acc: 0.7485\n",
            "Epoch 71/100\n",
            " 8384/10000 [========================>.....] - ETA: 0s - loss: 0.5086 - acc: 0.7601"
          ],
          "name": "stdout"
        },
        {
          "output_type": "stream",
          "text": [
            "10000/10000 [==============================] - 6s 579us/step - loss: 0.5105 - acc: 0.7563 - val_loss: 0.5424 - val_acc: 0.7320\n",
            "Epoch 72/100\n",
            "10000/10000 [==============================] - 5s 519us/step - loss: 0.5061 - acc: 0.7550 - val_loss: 0.4840 - val_acc: 0.7665\n",
            "Epoch 73/100\n",
            "10000/10000 [==============================] - 5s 515us/step - loss: 0.5037 - acc: 0.7596 - val_loss: 0.4997 - val_acc: 0.7605\n",
            "Epoch 74/100\n",
            "10000/10000 [==============================] - 5s 505us/step - loss: 0.5131 - acc: 0.7486 - val_loss: 0.5164 - val_acc: 0.7525\n",
            "Epoch 75/100\n",
            " 1216/10000 [==>...........................] - ETA: 4s - loss: 0.5185 - acc: 0.7525"
          ],
          "name": "stdout"
        },
        {
          "output_type": "stream",
          "text": [
            "10000/10000 [==============================] - 5s 503us/step - loss: 0.5027 - acc: 0.7601 - val_loss: 0.4798 - val_acc: 0.7635\n",
            "Epoch 76/100\n",
            "10000/10000 [==============================] - 6s 607us/step - loss: 0.5046 - acc: 0.7574 - val_loss: 0.4968 - val_acc: 0.7595\n",
            "Epoch 77/100\n",
            "10000/10000 [==============================] - 6s 637us/step - loss: 0.5112 - acc: 0.7545 - val_loss: 0.4921 - val_acc: 0.7630\n",
            "Epoch 78/100\n",
            " 6080/10000 [=================>............] - ETA: 2s - loss: 0.4983 - acc: 0.7615"
          ],
          "name": "stdout"
        },
        {
          "output_type": "stream",
          "text": [
            "10000/10000 [==============================] - 7s 653us/step - loss: 0.5027 - acc: 0.7568 - val_loss: 0.5224 - val_acc: 0.7360\n",
            "Epoch 79/100\n",
            "10000/10000 [==============================] - 6s 643us/step - loss: 0.5027 - acc: 0.7596 - val_loss: 0.4968 - val_acc: 0.7590\n",
            "Epoch 80/100\n",
            "10000/10000 [==============================] - 6s 637us/step - loss: 0.5006 - acc: 0.7602 - val_loss: 0.4846 - val_acc: 0.7620\n",
            "Epoch 81/100\n",
            " 6880/10000 [===================>..........] - ETA: 1s - loss: 0.4983 - acc: 0.7560"
          ],
          "name": "stdout"
        },
        {
          "output_type": "stream",
          "text": [
            "10000/10000 [==============================] - 6s 636us/step - loss: 0.5025 - acc: 0.7543 - val_loss: 0.4982 - val_acc: 0.7520\n",
            "Epoch 82/100\n",
            "10000/10000 [==============================] - 6s 628us/step - loss: 0.5005 - acc: 0.7626 - val_loss: 0.4826 - val_acc: 0.7695\n",
            "Epoch 83/100\n",
            "10000/10000 [==============================] - 6s 571us/step - loss: 0.5048 - acc: 0.7567 - val_loss: 0.4748 - val_acc: 0.7785\n",
            "Epoch 84/100\n",
            " 8832/10000 [=========================>....] - ETA: 0s - loss: 0.5062 - acc: 0.7550"
          ],
          "name": "stdout"
        },
        {
          "output_type": "stream",
          "text": [
            "10000/10000 [==============================] - 5s 514us/step - loss: 0.5067 - acc: 0.7542 - val_loss: 0.4929 - val_acc: 0.7580\n",
            "Epoch 85/100\n",
            "10000/10000 [==============================] - 5s 506us/step - loss: 0.5033 - acc: 0.7628 - val_loss: 0.4659 - val_acc: 0.7670\n",
            "Epoch 86/100\n",
            "10000/10000 [==============================] - 5s 511us/step - loss: 0.5081 - acc: 0.7542 - val_loss: 0.5844 - val_acc: 0.7005\n",
            "Epoch 87/100\n",
            "10000/10000 [==============================] - 5s 499us/step - loss: 0.5004 - acc: 0.7601 - val_loss: 0.4872 - val_acc: 0.7700\n",
            "Epoch 88/100\n",
            "  768/10000 [=>............................] - ETA: 4s - loss: 0.5361 - acc: 0.7266"
          ],
          "name": "stdout"
        },
        {
          "output_type": "stream",
          "text": [
            "10000/10000 [==============================] - 5s 476us/step - loss: 0.5048 - acc: 0.7582 - val_loss: 0.4738 - val_acc: 0.7710\n",
            "Epoch 89/100\n",
            "10000/10000 [==============================] - 5s 470us/step - loss: 0.5006 - acc: 0.7625 - val_loss: 0.4675 - val_acc: 0.7735\n",
            "Epoch 90/100\n",
            "10000/10000 [==============================] - 5s 459us/step - loss: 0.4939 - acc: 0.7669 - val_loss: 0.5252 - val_acc: 0.7465\n",
            "Epoch 91/100\n",
            "10000/10000 [==============================] - 4s 446us/step - loss: 0.5003 - acc: 0.7623 - val_loss: 0.4682 - val_acc: 0.7735\n",
            "Epoch 92/100\n",
            " 1632/10000 [===>..........................] - ETA: 3s - loss: 0.4827 - acc: 0.7684"
          ],
          "name": "stdout"
        },
        {
          "output_type": "stream",
          "text": [
            "10000/10000 [==============================] - 5s 451us/step - loss: 0.5030 - acc: 0.7591 - val_loss: 0.4686 - val_acc: 0.7740\n",
            "Epoch 93/100\n",
            "10000/10000 [==============================] - 5s 549us/step - loss: 0.5061 - acc: 0.7579 - val_loss: 0.4779 - val_acc: 0.7765\n",
            "Epoch 94/100\n",
            "10000/10000 [==============================] - 5s 529us/step - loss: 0.4969 - acc: 0.7615 - val_loss: 0.4847 - val_acc: 0.7675\n",
            "Epoch 95/100\n",
            "10000/10000 [==============================] - 4s 438us/step - loss: 0.5019 - acc: 0.7567 - val_loss: 0.4773 - val_acc: 0.7705\n",
            "Epoch 96/100\n",
            "  160/10000 [..............................] - ETA: 4s - loss: 0.5120 - acc: 0.7438"
          ],
          "name": "stdout"
        },
        {
          "output_type": "stream",
          "text": [
            "10000/10000 [==============================] - 4s 445us/step - loss: 0.4964 - acc: 0.7601 - val_loss: 0.4871 - val_acc: 0.7645\n",
            "Epoch 97/100\n",
            "10000/10000 [==============================] - 5s 505us/step - loss: 0.4993 - acc: 0.7614 - val_loss: 0.5172 - val_acc: 0.7575\n",
            "Epoch 98/100\n",
            "10000/10000 [==============================] - 4s 438us/step - loss: 0.4991 - acc: 0.7603 - val_loss: 0.4691 - val_acc: 0.7775\n",
            "Epoch 99/100\n",
            "10000/10000 [==============================] - 5s 460us/step - loss: 0.5012 - acc: 0.7609 - val_loss: 0.4810 - val_acc: 0.7685\n",
            "Epoch 100/100\n",
            " 1280/10000 [==>...........................] - ETA: 3s - loss: 0.5296 - acc: 0.7227"
          ],
          "name": "stdout"
        },
        {
          "output_type": "stream",
          "text": [
            "10000/10000 [==============================] - 5s 453us/step - loss: 0.5033 - acc: 0.7570 - val_loss: 0.4792 - val_acc: 0.7615\n"
          ],
          "name": "stdout"
        }
      ]
    },
    {
      "metadata": {
        "id": "CrjLN2IvF3ac",
        "colab_type": "text"
      },
      "cell_type": "markdown",
      "source": [
        "## Plot Training and Validation Accuracies\n",
        "\n",
        "Use your matplotlib skills to give us a nice line graph of both training and validation accuracies as the number of epochs increases. Don't forget your legend, axis and plot title."
      ]
    },
    {
      "metadata": {
        "id": "oPGEHk3pFMur",
        "colab_type": "code",
        "colab": {
          "autoexec": {
            "startup": false,
            "wait_interval": 0
          },
          "base_uri": "https://localhost:8080/",
          "height": 393
        },
        "outputId": "1c35ee8d-5b95-49e7-f8ab-eeea40af6631",
        "executionInfo": {
          "status": "ok",
          "timestamp": 1533238140906,
          "user_tz": 240,
          "elapsed": 619,
          "user": {
            "displayName": "Sebastian Norena",
            "photoUrl": "https://lh3.googleusercontent.com/a/default-user=s128",
            "userId": "104810452571155680318"
          }
        }
      },
      "cell_type": "code",
      "source": [
        "train_acc_df_1=pd.DataFrame(fitted_model_2.history[\"acc\"])\n",
        "train_val_acc_df_1=pd.DataFrame(fitted_model_2.history[\"val_acc\"])\n",
        "\n",
        "fig = plt.figure()\n",
        "ax = plt.axes()\n",
        "x = np.linspace(0, 100,100)\n",
        "plt.plot(x, train_acc_df_1, label='Train Accuracy')\n",
        "plt.plot(x, train_val_acc_df_1, linestyle='dotted', label='Test Accuracy')\n",
        "plt.title(\"Model 2 Training and Validation Accuracies by Epoch\")\n",
        "plt.xlabel(\"Epoch #\")\n",
        "plt.ylabel(\"Accuracy\")\n",
        "plt.legend()"
      ],
      "execution_count": 11,
      "outputs": [
        {
          "output_type": "execute_result",
          "data": {
            "text/plain": [
              "<matplotlib.legend.Legend at 0x7f1f776fa208>"
            ]
          },
          "metadata": {
            "tags": []
          },
          "execution_count": 11
        },
        {
          "output_type": "display_data",
          "data": {
            "image/png": "[encoded data removed]",
            "text/plain": [
              "<matplotlib.figure.Figure at 0x7f1f8a51a908>"
            ]
          },
          "metadata": {
            "tags": []
          }
        }
      ]
    },
    {
      "metadata": {
        "id": "e39BJXatPc-A",
        "colab_type": "text"
      },
      "cell_type": "markdown",
      "source": [
        ""
      ]
    }
  ]
}